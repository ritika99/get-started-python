{
  "nbformat": 4,
  "nbformat_minor": 0,
  "metadata": {
    "colab": {
      "name": "DIC train model.ipynb",
      "provenance": [],
      "collapsed_sections": [],
      "authorship_tag": "ABX9TyNIBlrka8BUpTWI5oiQ8dvD",
      "include_colab_link": true
    },
    "kernelspec": {
      "name": "python3",
      "display_name": "Python 3"
    },
    "accelerator": "GPU"
  },
  "cells": [
    {
      "cell_type": "markdown",
      "metadata": {
        "id": "view-in-github",
        "colab_type": "text"
      },
      "source": [
        "<a href=\"https://colab.research.google.com/github/ritika99/get-started-python/blob/master/DIC_train_model.ipynb\" target=\"_parent\"><img src=\"https://colab.research.google.com/assets/colab-badge.svg\" alt=\"Open In Colab\"/></a>"
      ]
    },
    {
      "cell_type": "code",
      "metadata": {
        "colab": {
          "base_uri": "https://localhost:8080/"
        },
        "id": "Ef45kWJgp6kp",
        "outputId": "fb35d6ae-cbeb-4efd-e13f-dbc0e7c03f71"
      },
      "source": [
        "!git clone https://github.com/AliaksandrSiarohin/first-order-model"
      ],
      "execution_count": null,
      "outputs": [
        {
          "output_type": "stream",
          "text": [
            "Cloning into 'first-order-model'...\n",
            "remote: Enumerating objects: 256, done.\u001b[K\n",
            "remote: Total 256 (delta 0), reused 0 (delta 0), pack-reused 256\u001b[K\n",
            "Receiving objects: 100% (256/256), 72.13 MiB | 17.10 MiB/s, done.\n",
            "Resolving deltas: 100% (128/128), done.\n"
          ],
          "name": "stdout"
        }
      ]
    },
    {
      "cell_type": "code",
      "metadata": {
        "colab": {
          "base_uri": "https://localhost:8080/"
        },
        "id": "XhyM6C5Gp8oE",
        "outputId": "e0199528-bdf6-486a-fcb5-f2fc4f87e8aa"
      },
      "source": [
        "cd first-order-model"
      ],
      "execution_count": null,
      "outputs": [
        {
          "output_type": "stream",
          "text": [
            "/content/first-order-model\n"
          ],
          "name": "stdout"
        }
      ]
    },
    {
      "cell_type": "code",
      "metadata": {
        "colab": {
          "base_uri": "https://localhost:8080/"
        },
        "id": "xYROlXnhqeTt",
        "outputId": "f83701d1-cecc-48a6-8c21-754d2c061dda"
      },
      "source": [
        "from google.colab import drive\n",
        "drive.mount('/content/gdrive')"
      ],
      "execution_count": null,
      "outputs": [
        {
          "output_type": "stream",
          "text": [
            "Mounted at /content/gdrive\n"
          ],
          "name": "stdout"
        }
      ]
    },
    {
      "cell_type": "code",
      "metadata": {
        "colab": {
          "base_uri": "https://localhost:8080/"
        },
        "id": "GgKSDIVXuPBI",
        "outputId": "3683ffb1-39c0-449d-e77d-1d2af3eb4cf5"
      },
      "source": [
        "!ls /content/gdrive/My\\ Drive/RitikaVideoDataset/data/ritika_dataset_31/"
      ],
      "execution_count": null,
      "outputs": [
        {
          "output_type": "stream",
          "text": [
            "config\ttest  train\n"
          ],
          "name": "stdout"
        }
      ]
    },
    {
      "cell_type": "code",
      "metadata": {
        "colab": {
          "base_uri": "https://localhost:8080/"
        },
        "id": "v3-njsbhqhf2",
        "outputId": "33951821-a95b-4d64-a56f-8a1914c8a4f6"
      },
      "source": [
        "!CUDA_VISIBLE_DEVICES=0,1,2,3 python run.py --config /content/gdrive/My\\ Drive/RitikaVideoDataset/data/ritika_dataset_31/config/ritika-dataset.yaml --device_ids 0,1,2,3"
      ],
      "execution_count": 21,
      "outputs": [
        {
          "output_type": "stream",
          "text": [
            "Use predefined train-test split.\n",
            "Training...\n",
            " 80% 8/10 [16:52<04:13, 126.54s/it]Traceback (most recent call last):\n",
            "  File \"run.py\", line 84, in <module>\n",
            "    train(config, generator, discriminator, kp_detector, opt.checkpoint, log_dir, dataset)\n",
            "  File \"/content/first-order-model/train.py\", line 51, in train\n",
            "    losses_generator, generated = generator_full(x)\n",
            "  File \"/usr/local/lib/python3.7/dist-packages/torch/nn/modules/module.py\", line 727, in _call_impl\n",
            "    result = self.forward(*input, **kwargs)\n",
            "  File \"/usr/local/lib/python3.7/dist-packages/torch/nn/parallel/data_parallel.py\", line 159, in forward\n",
            "    return self.module(*inputs[0], **kwargs[0])\n",
            "  File \"/usr/local/lib/python3.7/dist-packages/torch/nn/modules/module.py\", line 727, in _call_impl\n",
            "    result = self.forward(*input, **kwargs)\n",
            "  File \"/content/first-order-model/modules/model.py\", line 197, in forward\n",
            "    transformed_frame = transform.transform_frame(x['driving'])\n",
            "  File \"/content/first-order-model/modules/model.py\", line 90, in transform_frame\n",
            "    grid = make_coordinate_grid(frame.shape[2:], type=frame.type()).unsqueeze(0)\n",
            "  File \"/content/first-order-model/modules/util.py\", line 38, in make_coordinate_grid\n",
            "    x = torch.arange(w).type(type)\n",
            "KeyboardInterrupt\n",
            " 80% 8/10 [17:30<04:22, 131.33s/it]\n"
          ],
          "name": "stdout"
        }
      ]
    },
    {
      "cell_type": "code",
      "metadata": {
        "id": "E9MUBP6ErOux",
        "colab": {
          "base_uri": "https://localhost:8080/",
          "height": 1000
        },
        "outputId": "dcd2bbd1-7ba5-4872-a696-1611c35d8bfc"
      },
      "source": [
        "pip install -r requirements.txt\n"
      ],
      "execution_count": 22,
      "outputs": [
        {
          "output_type": "stream",
          "text": [
            "Collecting cffi==1.11.5\n",
            "\u001b[?25l  Downloading https://files.pythonhosted.org/packages/51/7b/d1014289d0578c3522b2798b9cb87c65e5b36798bd3ae68a75fa1fe09e78/cffi-1.11.5-cp37-cp37m-manylinux1_x86_64.whl (421kB)\n",
            "\r\u001b[K     |▉                               | 10kB 14.5MB/s eta 0:00:01\r\u001b[K     |█▋                              | 20kB 11.5MB/s eta 0:00:01\r\u001b[K     |██▍                             | 30kB 8.6MB/s eta 0:00:01\r\u001b[K     |███▏                            | 40kB 7.5MB/s eta 0:00:01\r\u001b[K     |████                            | 51kB 4.3MB/s eta 0:00:01\r\u001b[K     |████▊                           | 61kB 4.7MB/s eta 0:00:01\r\u001b[K     |█████▌                          | 71kB 4.9MB/s eta 0:00:01\r\u001b[K     |██████▎                         | 81kB 5.2MB/s eta 0:00:01\r\u001b[K     |███████                         | 92kB 5.5MB/s eta 0:00:01\r\u001b[K     |███████▉                        | 102kB 5.5MB/s eta 0:00:01\r\u001b[K     |████████▋                       | 112kB 5.5MB/s eta 0:00:01\r\u001b[K     |█████████▍                      | 122kB 5.5MB/s eta 0:00:01\r\u001b[K     |██████████▏                     | 133kB 5.5MB/s eta 0:00:01\r\u001b[K     |███████████                     | 143kB 5.5MB/s eta 0:00:01\r\u001b[K     |███████████▊                    | 153kB 5.5MB/s eta 0:00:01\r\u001b[K     |████████████▌                   | 163kB 5.5MB/s eta 0:00:01\r\u001b[K     |█████████████▎                  | 174kB 5.5MB/s eta 0:00:01\r\u001b[K     |██████████████                  | 184kB 5.5MB/s eta 0:00:01\r\u001b[K     |██████████████▉                 | 194kB 5.5MB/s eta 0:00:01\r\u001b[K     |███████████████▋                | 204kB 5.5MB/s eta 0:00:01\r\u001b[K     |████████████████▍               | 215kB 5.5MB/s eta 0:00:01\r\u001b[K     |█████████████████▏              | 225kB 5.5MB/s eta 0:00:01\r\u001b[K     |██████████████████              | 235kB 5.5MB/s eta 0:00:01\r\u001b[K     |██████████████████▊             | 245kB 5.5MB/s eta 0:00:01\r\u001b[K     |███████████████████▌            | 256kB 5.5MB/s eta 0:00:01\r\u001b[K     |████████████████████▎           | 266kB 5.5MB/s eta 0:00:01\r\u001b[K     |█████████████████████           | 276kB 5.5MB/s eta 0:00:01\r\u001b[K     |█████████████████████▉          | 286kB 5.5MB/s eta 0:00:01\r\u001b[K     |██████████████████████▋         | 296kB 5.5MB/s eta 0:00:01\r\u001b[K     |███████████████████████▍        | 307kB 5.5MB/s eta 0:00:01\r\u001b[K     |████████████████████████▏       | 317kB 5.5MB/s eta 0:00:01\r\u001b[K     |█████████████████████████       | 327kB 5.5MB/s eta 0:00:01\r\u001b[K     |█████████████████████████▊      | 337kB 5.5MB/s eta 0:00:01\r\u001b[K     |██████████████████████████▌     | 348kB 5.5MB/s eta 0:00:01\r\u001b[K     |███████████████████████████▎    | 358kB 5.5MB/s eta 0:00:01\r\u001b[K     |████████████████████████████    | 368kB 5.5MB/s eta 0:00:01\r\u001b[K     |████████████████████████████▉   | 378kB 5.5MB/s eta 0:00:01\r\u001b[K     |█████████████████████████████▋  | 389kB 5.5MB/s eta 0:00:01\r\u001b[K     |██████████████████████████████▍ | 399kB 5.5MB/s eta 0:00:01\r\u001b[K     |███████████████████████████████▏| 409kB 5.5MB/s eta 0:00:01\r\u001b[K     |████████████████████████████████| 419kB 5.5MB/s eta 0:00:01\r\u001b[K     |████████████████████████████████| 430kB 5.5MB/s \n",
            "\u001b[?25hCollecting cloudpickle==0.5.3\n",
            "  Downloading https://files.pythonhosted.org/packages/e7/bf/60ae7ec1e8c6742d2abbb6819c39a48ee796793bcdb7e1d5e41a3e379ddd/cloudpickle-0.5.3-py2.py3-none-any.whl\n",
            "Requirement already satisfied: cycler==0.10.0 in /usr/local/lib/python3.7/dist-packages (from -r requirements.txt (line 3)) (0.10.0)\n",
            "Collecting dask==0.18.2\n",
            "\u001b[?25l  Downloading https://files.pythonhosted.org/packages/91/52/427541141707ac533a6dcafa3bff7ff8b57ded3c9ea84d6ec014d15fbbff/dask-0.18.2-py2.py3-none-any.whl (645kB)\n",
            "\u001b[K     |████████████████████████████████| 655kB 7.9MB/s \n",
            "\u001b[?25hCollecting decorator==4.3.0\n",
            "  Downloading https://files.pythonhosted.org/packages/bc/bb/a24838832ba35baf52f32ab1a49b906b5f82fb7c76b2f6a7e35e140bac30/decorator-4.3.0-py2.py3-none-any.whl\n",
            "Collecting imageio==2.3.0\n",
            "\u001b[?25l  Downloading https://files.pythonhosted.org/packages/a7/1d/33c8686072148b3b0fcc12a2e0857dd8316b8ae20a0fa66c8d6a6d01c05c/imageio-2.3.0-py2.py3-none-any.whl (3.3MB)\n",
            "\u001b[K     |████████████████████████████████| 3.3MB 13.1MB/s \n",
            "\u001b[?25hCollecting kiwisolver==1.0.1\n",
            "\u001b[?25l  Downloading https://files.pythonhosted.org/packages/5c/7e/d6cae2f241ba474a2665f24b480bf4e247036d63939dda2bbc4d2ee5069d/kiwisolver-1.0.1-cp37-cp37m-manylinux1_x86_64.whl (89kB)\n",
            "\u001b[K     |████████████████████████████████| 92kB 9.2MB/s \n",
            "\u001b[?25hCollecting matplotlib==2.2.2\n",
            "\u001b[?25l  Downloading https://files.pythonhosted.org/packages/da/1d/e6d9af0b5045597869537391f1036ab841c613c3f3e40f16bbc1d75450ee/matplotlib-2.2.2-cp37-cp37m-manylinux1_x86_64.whl (12.6MB)\n",
            "\u001b[K     |████████████████████████████████| 12.6MB 249kB/s \n",
            "\u001b[?25hCollecting networkx==2.1\n",
            "\u001b[?25l  Downloading https://files.pythonhosted.org/packages/11/42/f951cc6838a4dff6ce57211c4d7f8444809ccbe2134179950301e5c4c83c/networkx-2.1.zip (1.6MB)\n",
            "\u001b[K     |████████████████████████████████| 1.6MB 18.7MB/s \n",
            "\u001b[?25hCollecting numpy==1.15.0\n",
            "\u001b[?25l  Downloading https://files.pythonhosted.org/packages/27/92/c01d3a6c58ceab0e6ec36ad3af41bc076014cc916afcb979ab4c9558f347/numpy-1.15.0-cp37-cp37m-manylinux1_x86_64.whl (13.8MB)\n",
            "\u001b[K     |████████████████████████████████| 13.9MB 252kB/s \n",
            "\u001b[?25hCollecting pandas==0.23.4\n",
            "\u001b[?25l  Downloading https://files.pythonhosted.org/packages/67/a7/12261a51ac2e7be4c698ca27cbe364ca5f16d64999456ee47ea8c7b44417/pandas-0.23.4-cp37-cp37m-manylinux1_x86_64.whl (8.8MB)\n",
            "\u001b[K     |████████████████████████████████| 8.8MB 34.4MB/s \n",
            "\u001b[?25hCollecting Pillow==5.2.0\n",
            "\u001b[?25l  Downloading https://files.pythonhosted.org/packages/6e/5d/af4af9a0f57ce81e6710836883986c2ea40b96579f7bd90dc7c1fa375355/Pillow-5.2.0-cp37-cp37m-manylinux1_x86_64.whl (2.0MB)\n",
            "\u001b[K     |████████████████████████████████| 2.0MB 25.3MB/s \n",
            "\u001b[?25hCollecting pycparser==2.18\n",
            "\u001b[?25l  Downloading https://files.pythonhosted.org/packages/8c/2d/aad7f16146f4197a11f8e91fb81df177adcc2073d36a17b1491fd09df6ed/pycparser-2.18.tar.gz (245kB)\n",
            "\u001b[K     |████████████████████████████████| 256kB 39.8MB/s \n",
            "\u001b[?25hCollecting pygit==0.1\n",
            "  Downloading https://files.pythonhosted.org/packages/cd/e8/839dacf13a5de30eff7e0815a3cfc051bd80532f83d862e0c14433b03286/pygit-0.1.tar.gz\n",
            "Collecting pyparsing==2.2.0\n",
            "\u001b[?25l  Downloading https://files.pythonhosted.org/packages/6a/8a/718fd7d3458f9fab8e67186b00abdd345b639976bc7fb3ae722e1b026a50/pyparsing-2.2.0-py2.py3-none-any.whl (56kB)\n",
            "\u001b[K     |████████████████████████████████| 61kB 6.9MB/s \n",
            "\u001b[?25hCollecting python-dateutil==2.7.3\n",
            "\u001b[?25l  Downloading https://files.pythonhosted.org/packages/cf/f5/af2b09c957ace60dcfac112b669c45c8c97e32f94aa8b56da4c6d1682825/python_dateutil-2.7.3-py2.py3-none-any.whl (211kB)\n",
            "\u001b[K     |████████████████████████████████| 215kB 39.4MB/s \n",
            "\u001b[?25hCollecting pytz==2018.5\n",
            "\u001b[?25l  Downloading https://files.pythonhosted.org/packages/30/4e/27c34b62430286c6d59177a0842ed90dc789ce5d1ed740887653b898779a/pytz-2018.5-py2.py3-none-any.whl (510kB)\n",
            "\u001b[K     |████████████████████████████████| 512kB 36.7MB/s \n",
            "\u001b[?25hCollecting PyWavelets==0.5.2\n",
            "\u001b[?25l  Downloading https://files.pythonhosted.org/packages/fc/ae/c8956ce5c6112bed06e9700d01c32a3e740d885fe511da0ebb0c0377ce8d/PyWavelets-0.5.2-cp37-cp37m-manylinux1_x86_64.whl (4.3MB)\n",
            "\u001b[K     |████████████████████████████████| 4.3MB 34.1MB/s \n",
            "\u001b[?25hCollecting PyYAML==5.1\n",
            "\u001b[?25l  Downloading https://files.pythonhosted.org/packages/9f/2c/9417b5c774792634834e730932745bc09a7d36754ca00acf1ccd1ac2594d/PyYAML-5.1.tar.gz (274kB)\n",
            "\u001b[K     |████████████████████████████████| 276kB 38.4MB/s \n",
            "\u001b[?25hCollecting scikit-image==0.14.0\n",
            "\u001b[?25l  Downloading https://files.pythonhosted.org/packages/d6/ae/c9ea76fb37724596bd031e98f7f356936cabc39e5c57f27d56f08e6d52f2/scikit_image-0.14.0-cp37-cp37m-manylinux1_x86_64.whl (25.3MB)\n",
            "\u001b[K     |████████████████████████████████| 25.3MB 136kB/s \n",
            "\u001b[?25hCollecting scikit-learn==0.19.2\n",
            "\u001b[?25l  Downloading https://files.pythonhosted.org/packages/eb/f1/8ab06a3ae2f047098a953e43e1714f47ae0db28d2960afcacaa04d671b51/scikit_learn-0.19.2-cp37-cp37m-manylinux1_x86_64.whl (4.9MB)\n",
            "\u001b[K     |████████████████████████████████| 4.9MB 33.4MB/s \n",
            "\u001b[?25hCollecting scipy==1.1.0\n",
            "\u001b[?25l  Downloading https://files.pythonhosted.org/packages/40/de/0c22c6754370ba6b1fa8e53bd6e514d4a41a181125d405a501c215cbdbd6/scipy-1.1.0-cp37-cp37m-manylinux1_x86_64.whl (31.2MB)\n",
            "\u001b[K     |████████████████████████████████| 31.2MB 110kB/s \n",
            "\u001b[?25hCollecting six==1.11.0\n",
            "  Downloading https://files.pythonhosted.org/packages/67/4b/141a581104b1f6397bfa78ac9d43d8ad29a7ca43ea90a2d863fe3056e86a/six-1.11.0-py2.py3-none-any.whl\n",
            "Collecting toolz==0.9.0\n",
            "\u001b[?25l  Downloading https://files.pythonhosted.org/packages/14/d0/a73c15bbeda3d2e7b381a36afb0d9cd770a9f4adc5d1532691013ba881db/toolz-0.9.0.tar.gz (45kB)\n",
            "\u001b[K     |████████████████████████████████| 51kB 6.7MB/s \n",
            "\u001b[?25hCollecting torch==1.0.0\n",
            "\u001b[?25l  Downloading https://files.pythonhosted.org/packages/f5/3b/0b8de6e654c2983898564226792c6f09d9bcaba97b7b29c40e4ed4ae43ed/torch-1.0.0-cp37-cp37m-manylinux1_x86_64.whl (591.8MB)\n",
            "\u001b[K     |████████████████████████████████| 591.8MB 24kB/s \n",
            "\u001b[?25hCollecting torchvision==0.2.1\n",
            "\u001b[?25l  Downloading https://files.pythonhosted.org/packages/ca/0d/f00b2885711e08bd71242ebe7b96561e6f6d01fdb4b9dcf4d37e2e13c5e1/torchvision-0.2.1-py2.py3-none-any.whl (54kB)\n",
            "\u001b[K     |████████████████████████████████| 61kB 7.8MB/s \n",
            "\u001b[?25hCollecting tqdm==4.24.0\n",
            "\u001b[?25l  Downloading https://files.pythonhosted.org/packages/7d/e6/19dfaff08fcbee7f3453e5b537e65a8364f1945f921a36d08be1e2ff3475/tqdm-4.24.0-py2.py3-none-any.whl (43kB)\n",
            "\u001b[K     |████████████████████████████████| 51kB 6.8MB/s \n",
            "\u001b[?25hRequirement already satisfied: setuptools in /usr/local/lib/python3.7/dist-packages (from kiwisolver==1.0.1->-r requirements.txt (line 7)) (53.0.0)\n",
            "Building wheels for collected packages: networkx, pycparser, pygit, PyYAML, toolz\n",
            "  Building wheel for networkx (setup.py) ... \u001b[?25l\u001b[?25hdone\n",
            "  Created wheel for networkx: filename=networkx-2.1-py2.py3-none-any.whl size=1447766 sha256=e78f690e965f728e5bbf58d0910f5272df95356ada279e1166ddc50ebff77918\n",
            "  Stored in directory: /root/.cache/pip/wheels/44/c0/34/6f98693a554301bdb405f8d65d95bbcd3e50180cbfdd98a94e\n",
            "  Building wheel for pycparser (setup.py) ... \u001b[?25l\u001b[?25hdone\n",
            "  Created wheel for pycparser: filename=pycparser-2.18-py2.py3-none-any.whl size=205698 sha256=75e47fcc31663e664a136244029e03135d58fa67dd34a2bd5789f4d12ba81cad\n",
            "  Stored in directory: /root/.cache/pip/wheels/c0/a1/27/5ba234bd77ea5a290cbf6d675259ec52293193467a12ef1f46\n",
            "  Building wheel for pygit (setup.py) ... \u001b[?25l\u001b[?25hdone\n",
            "  Created wheel for pygit: filename=pygit-0.1-cp37-none-any.whl size=6716 sha256=84eab2d975adabf4fb0ee1f318c87d05b31adf41c75e4f3a463ff919c9fe6c2a\n",
            "  Stored in directory: /root/.cache/pip/wheels/22/1f/aa/1dff5247552ead3515d0cdd8d5700c221c6ac9540de0cdbb2c\n",
            "  Building wheel for PyYAML (setup.py) ... \u001b[?25l\u001b[?25hdone\n",
            "  Created wheel for PyYAML: filename=PyYAML-5.1-cp37-cp37m-linux_x86_64.whl size=44074 sha256=6ccdb07a66db729754859678438f422ae62656099c17e205a07e0559402d3001\n",
            "  Stored in directory: /root/.cache/pip/wheels/ad/56/bc/1522f864feb2a358ea6f1a92b4798d69ac783a28e80567a18b\n",
            "  Building wheel for toolz (setup.py) ... \u001b[?25l\u001b[?25hdone\n",
            "  Created wheel for toolz: filename=toolz-0.9.0-cp37-none-any.whl size=53240 sha256=93fa2be8164748033f7a2c9ce64034b5d74e29895be0cd5410a6c11d926a33bf\n",
            "  Stored in directory: /root/.cache/pip/wheels/f4/0c/f6/ce6b2d1aa459ee97cc3c0f82236302bd62d89c86c700219463\n",
            "Successfully built networkx pycparser pygit PyYAML toolz\n",
            "\u001b[31mERROR: yellowbrick 0.9.1 has requirement scikit-learn>=0.20, but you'll have scikit-learn 0.19.2 which is incompatible.\u001b[0m\n",
            "\u001b[31mERROR: xarray 0.15.1 has requirement pandas>=0.25, but you'll have pandas 0.23.4 which is incompatible.\u001b[0m\n",
            "\u001b[31mERROR: umap-learn 0.5.1 has requirement numpy>=1.17, but you'll have numpy 1.15.0 which is incompatible.\u001b[0m\n",
            "\u001b[31mERROR: umap-learn 0.5.1 has requirement scikit-learn>=0.22, but you'll have scikit-learn 0.19.2 which is incompatible.\u001b[0m\n",
            "\u001b[31mERROR: tifffile 2021.2.1 has requirement numpy>=1.15.1, but you'll have numpy 1.15.0 which is incompatible.\u001b[0m\n",
            "\u001b[31mERROR: tensorflow 2.4.1 has requirement numpy~=1.19.2, but you'll have numpy 1.15.0 which is incompatible.\u001b[0m\n",
            "\u001b[31mERROR: tensorflow 2.4.1 has requirement six~=1.15.0, but you'll have six 1.11.0 which is incompatible.\u001b[0m\n",
            "\u001b[31mERROR: tensorflow-probability 0.12.1 has requirement cloudpickle>=1.3, but you'll have cloudpickle 0.5.3 which is incompatible.\u001b[0m\n",
            "\u001b[31mERROR: spacy 2.2.4 has requirement tqdm<5.0.0,>=4.38.0, but you'll have tqdm 4.24.0 which is incompatible.\u001b[0m\n",
            "\u001b[31mERROR: pyerfa 1.7.2 has requirement numpy>=1.16, but you'll have numpy 1.15.0 which is incompatible.\u001b[0m\n",
            "\u001b[31mERROR: pyarrow 3.0.0 has requirement numpy>=1.16.6, but you'll have numpy 1.15.0 which is incompatible.\u001b[0m\n",
            "\u001b[31mERROR: plotnine 0.6.0 has requirement matplotlib>=3.1.1, but you'll have matplotlib 2.2.2 which is incompatible.\u001b[0m\n",
            "\u001b[31mERROR: plotnine 0.6.0 has requirement numpy>=1.16.0, but you'll have numpy 1.15.0 which is incompatible.\u001b[0m\n",
            "\u001b[31mERROR: plotnine 0.6.0 has requirement pandas>=0.25.0, but you'll have pandas 0.23.4 which is incompatible.\u001b[0m\n",
            "\u001b[31mERROR: plotnine 0.6.0 has requirement scipy>=1.2.0, but you'll have scipy 1.1.0 which is incompatible.\u001b[0m\n",
            "\u001b[31mERROR: mizani 0.6.0 has requirement matplotlib>=3.1.1, but you'll have matplotlib 2.2.2 which is incompatible.\u001b[0m\n",
            "\u001b[31mERROR: mizani 0.6.0 has requirement pandas>=0.25.0, but you'll have pandas 0.23.4 which is incompatible.\u001b[0m\n",
            "\u001b[31mERROR: imbalanced-learn 0.4.3 has requirement scikit-learn>=0.20, but you'll have scikit-learn 0.19.2 which is incompatible.\u001b[0m\n",
            "\u001b[31mERROR: gym 0.17.3 has requirement cloudpickle<1.7.0,>=1.2.0, but you'll have cloudpickle 0.5.3 which is incompatible.\u001b[0m\n",
            "\u001b[31mERROR: google-colab 1.0.0 has requirement pandas~=1.1.0; python_version >= \"3.0\", but you'll have pandas 0.23.4 which is incompatible.\u001b[0m\n",
            "\u001b[31mERROR: google-colab 1.0.0 has requirement six~=1.15.0, but you'll have six 1.11.0 which is incompatible.\u001b[0m\n",
            "\u001b[31mERROR: fbprophet 0.7.1 has requirement numpy>=1.15.4, but you'll have numpy 1.15.0 which is incompatible.\u001b[0m\n",
            "\u001b[31mERROR: fbprophet 0.7.1 has requirement pandas>=1.0.4, but you'll have pandas 0.23.4 which is incompatible.\u001b[0m\n",
            "\u001b[31mERROR: fbprophet 0.7.1 has requirement python-dateutil>=2.8.0, but you'll have python-dateutil 2.7.3 which is incompatible.\u001b[0m\n",
            "\u001b[31mERROR: fbprophet 0.7.1 has requirement tqdm>=4.36.1, but you'll have tqdm 4.24.0 which is incompatible.\u001b[0m\n",
            "\u001b[31mERROR: dm-tree 0.1.5 has requirement six>=1.12.0, but you'll have six 1.11.0 which is incompatible.\u001b[0m\n",
            "\u001b[31mERROR: datascience 0.10.6 has requirement folium==0.2.1, but you'll have folium 0.8.3 which is incompatible.\u001b[0m\n",
            "\u001b[31mERROR: astropy 4.2 has requirement numpy>=1.17, but you'll have numpy 1.15.0 which is incompatible.\u001b[0m\n",
            "\u001b[31mERROR: albumentations 0.1.12 has requirement imgaug<0.2.7,>=0.2.5, but you'll have imgaug 0.2.9 which is incompatible.\u001b[0m\n",
            "Installing collected packages: pycparser, cffi, cloudpickle, dask, decorator, numpy, Pillow, imageio, kiwisolver, pytz, six, python-dateutil, pyparsing, matplotlib, networkx, pandas, pygit, PyWavelets, PyYAML, scipy, scikit-image, scikit-learn, toolz, torch, torchvision, tqdm\n",
            "  Found existing installation: pycparser 2.20\n",
            "    Uninstalling pycparser-2.20:\n",
            "      Successfully uninstalled pycparser-2.20\n",
            "  Found existing installation: cffi 1.14.5\n",
            "    Uninstalling cffi-1.14.5:\n",
            "      Successfully uninstalled cffi-1.14.5\n",
            "  Found existing installation: cloudpickle 1.3.0\n",
            "    Uninstalling cloudpickle-1.3.0:\n",
            "      Successfully uninstalled cloudpickle-1.3.0\n",
            "  Found existing installation: dask 2.12.0\n",
            "    Uninstalling dask-2.12.0:\n",
            "      Successfully uninstalled dask-2.12.0\n",
            "  Found existing installation: decorator 4.4.2\n",
            "    Uninstalling decorator-4.4.2:\n",
            "      Successfully uninstalled decorator-4.4.2\n",
            "  Found existing installation: numpy 1.19.5\n",
            "    Uninstalling numpy-1.19.5:\n",
            "      Successfully uninstalled numpy-1.19.5\n",
            "  Found existing installation: Pillow 7.0.0\n",
            "    Uninstalling Pillow-7.0.0:\n",
            "      Successfully uninstalled Pillow-7.0.0\n",
            "  Found existing installation: imageio 2.4.1\n",
            "    Uninstalling imageio-2.4.1:\n",
            "      Successfully uninstalled imageio-2.4.1\n",
            "  Found existing installation: kiwisolver 1.3.1\n",
            "    Uninstalling kiwisolver-1.3.1:\n",
            "      Successfully uninstalled kiwisolver-1.3.1\n",
            "  Found existing installation: pytz 2018.9\n",
            "    Uninstalling pytz-2018.9:\n",
            "      Successfully uninstalled pytz-2018.9\n",
            "  Found existing installation: six 1.15.0\n",
            "    Uninstalling six-1.15.0:\n",
            "      Successfully uninstalled six-1.15.0\n",
            "  Found existing installation: python-dateutil 2.8.1\n",
            "    Uninstalling python-dateutil-2.8.1:\n",
            "      Successfully uninstalled python-dateutil-2.8.1\n",
            "  Found existing installation: pyparsing 2.4.7\n",
            "    Uninstalling pyparsing-2.4.7:\n",
            "      Successfully uninstalled pyparsing-2.4.7\n",
            "  Found existing installation: matplotlib 3.2.2\n",
            "    Uninstalling matplotlib-3.2.2:\n",
            "      Successfully uninstalled matplotlib-3.2.2\n",
            "  Found existing installation: networkx 2.5\n",
            "    Uninstalling networkx-2.5:\n",
            "      Successfully uninstalled networkx-2.5\n",
            "  Found existing installation: pandas 1.1.5\n",
            "    Uninstalling pandas-1.1.5:\n",
            "      Successfully uninstalled pandas-1.1.5\n",
            "  Found existing installation: PyWavelets 1.1.1\n",
            "    Uninstalling PyWavelets-1.1.1:\n",
            "      Successfully uninstalled PyWavelets-1.1.1\n",
            "  Found existing installation: PyYAML 3.13\n",
            "    Uninstalling PyYAML-3.13:\n",
            "      Successfully uninstalled PyYAML-3.13\n",
            "  Found existing installation: scipy 1.4.1\n",
            "    Uninstalling scipy-1.4.1:\n",
            "      Successfully uninstalled scipy-1.4.1\n",
            "  Found existing installation: scikit-image 0.16.2\n",
            "    Uninstalling scikit-image-0.16.2:\n",
            "      Successfully uninstalled scikit-image-0.16.2\n",
            "  Found existing installation: scikit-learn 0.22.2.post1\n",
            "    Uninstalling scikit-learn-0.22.2.post1:\n",
            "      Successfully uninstalled scikit-learn-0.22.2.post1\n",
            "  Found existing installation: toolz 0.11.1\n",
            "    Uninstalling toolz-0.11.1:\n",
            "      Successfully uninstalled toolz-0.11.1\n",
            "  Found existing installation: torch 1.7.1+cu101\n",
            "    Uninstalling torch-1.7.1+cu101:\n",
            "      Successfully uninstalled torch-1.7.1+cu101\n",
            "  Found existing installation: torchvision 0.8.2+cu101\n",
            "    Uninstalling torchvision-0.8.2+cu101:\n",
            "      Successfully uninstalled torchvision-0.8.2+cu101\n",
            "  Found existing installation: tqdm 4.41.1\n",
            "    Uninstalling tqdm-4.41.1:\n",
            "      Successfully uninstalled tqdm-4.41.1\n",
            "Successfully installed Pillow-5.2.0 PyWavelets-0.5.2 PyYAML-5.1 cffi-1.11.5 cloudpickle-0.5.3 dask-0.18.2 decorator-4.3.0 imageio-2.3.0 kiwisolver-1.0.1 matplotlib-2.2.2 networkx-2.1 numpy-1.15.0 pandas-0.23.4 pycparser-2.18 pygit-0.1 pyparsing-2.2.0 python-dateutil-2.7.3 pytz-2018.5 scikit-image-0.14.0 scikit-learn-0.19.2 scipy-1.1.0 six-1.11.0 toolz-0.9.0 torch-1.0.0 torchvision-0.2.1 tqdm-4.24.0\n"
          ],
          "name": "stdout"
        },
        {
          "output_type": "display_data",
          "data": {
            "application/vnd.colab-display-data+json": {
              "pip_warning": {
                "packages": [
                  "PIL",
                  "cffi",
                  "dateutil",
                  "decorator",
                  "kiwisolver",
                  "matplotlib",
                  "mpl_toolkits",
                  "numpy",
                  "pandas",
                  "pyparsing",
                  "pytz",
                  "six"
                ]
              }
            }
          },
          "metadata": {
            "tags": []
          }
        }
      ]
    },
    {
      "cell_type": "code",
      "metadata": {
        "colab": {
          "base_uri": "https://localhost:8080/",
          "height": 131
        },
        "id": "3wAEYbTfIRwp",
        "outputId": "939db0f8-e17a-45ce-bf1e-03ff5c7e7213"
      },
      "source": [
        "wget https://yt-dl.org/downloads/latest/youtube-dl -O youtube-dl\n",
        "chmod a+rx youtube-dl\n"
      ],
      "execution_count": 23,
      "outputs": [
        {
          "output_type": "error",
          "ename": "SyntaxError",
          "evalue": "ignored",
          "traceback": [
            "\u001b[0;36m  File \u001b[0;32m\"<ipython-input-23-b65940e59a4a>\"\u001b[0;36m, line \u001b[0;32m1\u001b[0m\n\u001b[0;31m    wget https://yt-dl.org/downloads/latest/youtube-dl -O youtube-dl\u001b[0m\n\u001b[0m             ^\u001b[0m\n\u001b[0;31mSyntaxError\u001b[0m\u001b[0;31m:\u001b[0m invalid syntax\n"
          ]
        }
      ]
    }
  ]
}